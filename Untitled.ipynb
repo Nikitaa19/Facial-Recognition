{
 "cells": [
  {
   "cell_type": "code",
   "execution_count": 1,
   "id": "779c0995-d301-49df-b1ac-055840d95923",
   "metadata": {},
   "outputs": [],
   "source": [
    "#pip install opencv-python"
   ]
  },
  {
   "cell_type": "code",
   "execution_count": 5,
   "id": "e6c334d8-a63b-4253-bb50-ddac640a9997",
   "metadata": {},
   "outputs": [],
   "source": [
    "import numpy as np\n",
    "import pandas as pd\n",
    "import seaborn as sns\n",
    "import matplotlib.pyplot as plt\n",
    "import cv2\n",
    "import os"
   ]
  },
  {
   "cell_type": "code",
   "execution_count": 6,
   "id": "4f80c823-1289-474b-b92e-1d0d19c2a7a9",
   "metadata": {},
   "outputs": [],
   "source": [
    "faces_dir = os.path.join(\"Faces\")\n",
    "detected_faces_dir = os.path.join(\"Detected Faces\")\n",
    "train_csv_path = os.path.join(\"train.csv\")\n",
    "test_csv_path = os.path.join(\"test.csv\")"
   ]
  },
  {
   "cell_type": "code",
   "execution_count": 7,
   "id": "153aaea0-84b7-42a5-950b-9813cac86a69",
   "metadata": {},
   "outputs": [],
   "source": [
    "train_data = pd.read_csv(train_csv_path)"
   ]
  },
  {
   "cell_type": "code",
   "execution_count": 8,
   "id": "7c0917d4-c319-4735-802f-5225f16f8a0a",
   "metadata": {},
   "outputs": [
    {
     "data": {
      "text/html": [
       "<div>\n",
       "<style scoped>\n",
       "    .dataframe tbody tr th:only-of-type {\n",
       "        vertical-align: middle;\n",
       "    }\n",
       "\n",
       "    .dataframe tbody tr th {\n",
       "        vertical-align: top;\n",
       "    }\n",
       "\n",
       "    .dataframe thead th {\n",
       "        text-align: right;\n",
       "    }\n",
       "</style>\n",
       "<table border=\"1\" class=\"dataframe\">\n",
       "  <thead>\n",
       "    <tr style=\"text-align: right;\">\n",
       "      <th></th>\n",
       "      <th>Image1</th>\n",
       "      <th>Image2</th>\n",
       "      <th>class</th>\n",
       "      <th>face_present</th>\n",
       "    </tr>\n",
       "  </thead>\n",
       "  <tbody>\n",
       "    <tr>\n",
       "      <th>0</th>\n",
       "      <td>Elizabeth_Dole_0001.jpg</td>\n",
       "      <td>Elizabeth_Dole_0003.jpg</td>\n",
       "      <td>similar</td>\n",
       "      <td>Yes</td>\n",
       "    </tr>\n",
       "    <tr>\n",
       "      <th>1</th>\n",
       "      <td>Shia_LaBeouf_0001.jpg</td>\n",
       "      <td>Tatyana_Tomashova_0001.jpg</td>\n",
       "      <td>different</td>\n",
       "      <td>Yes</td>\n",
       "    </tr>\n",
       "    <tr>\n",
       "      <th>2</th>\n",
       "      <td>Earl_Campbell_0001.jpg</td>\n",
       "      <td>Marco_Antonio_Barrera_0003.jpg</td>\n",
       "      <td>different</td>\n",
       "      <td>Yes</td>\n",
       "    </tr>\n",
       "    <tr>\n",
       "      <th>3</th>\n",
       "      <td>Diana_Munz_0003.jpg</td>\n",
       "      <td>Geno_Auriemma_0001.jpg</td>\n",
       "      <td>different</td>\n",
       "      <td>Yes</td>\n",
       "    </tr>\n",
       "    <tr>\n",
       "      <th>4</th>\n",
       "      <td>Freda_Black_0001.jpg</td>\n",
       "      <td>Patricia_Clarkson_0003.jpg</td>\n",
       "      <td>different</td>\n",
       "      <td>No</td>\n",
       "    </tr>\n",
       "  </tbody>\n",
       "</table>\n",
       "</div>"
      ],
      "text/plain": [
       "                    Image1                          Image2      class  \\\n",
       "0  Elizabeth_Dole_0001.jpg         Elizabeth_Dole_0003.jpg    similar   \n",
       "1    Shia_LaBeouf_0001.jpg      Tatyana_Tomashova_0001.jpg  different   \n",
       "2   Earl_Campbell_0001.jpg  Marco_Antonio_Barrera_0003.jpg  different   \n",
       "3      Diana_Munz_0003.jpg          Geno_Auriemma_0001.jpg  different   \n",
       "4     Freda_Black_0001.jpg      Patricia_Clarkson_0003.jpg  different   \n",
       "\n",
       "  face_present  \n",
       "0          Yes  \n",
       "1          Yes  \n",
       "2          Yes  \n",
       "3          Yes  \n",
       "4           No  "
      ]
     },
     "execution_count": 8,
     "metadata": {},
     "output_type": "execute_result"
    }
   ],
   "source": [
    "train_data.head()"
   ]
  },
  {
   "cell_type": "code",
   "execution_count": 9,
   "id": "14d12d01-5b3e-4ca5-9a28-d1f08df37db5",
   "metadata": {},
   "outputs": [
    {
     "data": {
      "text/plain": [
       "(2200, 4)"
      ]
     },
     "execution_count": 9,
     "metadata": {},
     "output_type": "execute_result"
    }
   ],
   "source": [
    "train_data.shape"
   ]
  },
  {
   "cell_type": "code",
   "execution_count": 10,
   "id": "d6ef55a0-6001-4c35-9d98-6a697383c3d7",
   "metadata": {},
   "outputs": [
    {
     "data": {
      "text/plain": [
       "Image1                      Image2                    class      face_present\n",
       "AJ_Cook_0001.jpg            Marsha_Thomason_0001.jpg  different  Yes             1\n",
       "Kate_Winslet_0001.jpg       Kate_Winslet_0004.jpg     similar    Yes             1\n",
       "Kaio_Almeida_0001.jpg       Sven_Ottke_0001.jpg       different  Yes             1\n",
       "Karen_Lynn_Gorney_0001.jpg  Soon_Yi_0001.jpg          different  Yes             1\n",
       "Karen_Pereiras_0001.jpg     Peter_Arnett_0002.jpg     different  Yes             1\n",
       "                                                                                ..\n",
       "Diana_Krall_0001.jpg        Diana_Krall_0006.jpg      similar    Yes             1\n",
       "                            Diana_Krall_0003.jpg      similar    Yes             1\n",
       "Dexter_Jackson_0001.jpg     Dexter_Jackson_0002.jpg   similar    Yes             1\n",
       "Desiree_Lemosi_0001.jpg     Desiree_Lemosi_0002.jpg   similar    Yes             1\n",
       "Zinedine_Zidane_0002.jpg    Zinedine_Zidane_0004.jpg  similar    Yes             1\n",
       "Name: count, Length: 2200, dtype: int64"
      ]
     },
     "execution_count": 10,
     "metadata": {},
     "output_type": "execute_result"
    }
   ],
   "source": [
    "train_data.value_counts()"
   ]
  },
  {
   "cell_type": "code",
   "execution_count": 11,
   "id": "a542b02d-1e6a-444f-94f9-5f38b50a69f0",
   "metadata": {},
   "outputs": [
    {
     "data": {
      "text/plain": [
       "Image1          0\n",
       "Image2          0\n",
       "class           0\n",
       "face_present    0\n",
       "dtype: int64"
      ]
     },
     "execution_count": 11,
     "metadata": {},
     "output_type": "execute_result"
    }
   ],
   "source": [
    "train_data.isnull().sum()"
   ]
  },
  {
   "cell_type": "code",
   "execution_count": 14,
   "id": "baa56e7f-0cee-43f5-8085-dd1d0b228bea",
   "metadata": {},
   "outputs": [
    {
     "ename": "AttributeError",
     "evalue": "module 'cv2' has no attribute 'face'",
     "output_type": "error",
     "traceback": [
      "\u001b[1;31m---------------------------------------------------------------------------\u001b[0m",
      "\u001b[1;31mAttributeError\u001b[0m                            Traceback (most recent call last)",
      "Cell \u001b[1;32mIn[14], line 10\u001b[0m\n\u001b[0;32m      7\u001b[0m gray \u001b[38;5;241m=\u001b[39m cv2\u001b[38;5;241m.\u001b[39mcvtColor(image, cv2\u001b[38;5;241m.\u001b[39mCOLOR_BGR2GRAY)\n\u001b[0;32m      9\u001b[0m \u001b[38;5;66;03m# Create the LBPH recognizer\u001b[39;00m\n\u001b[1;32m---> 10\u001b[0m recognizer \u001b[38;5;241m=\u001b[39m \u001b[43mcv2\u001b[49m\u001b[38;5;241;43m.\u001b[39;49m\u001b[43mface\u001b[49m\u001b[38;5;241m.\u001b[39mLBPHFaceRecognizer_create()\n\u001b[0;32m     12\u001b[0m \u001b[38;5;66;03m# Train the recognizer with the current image\u001b[39;00m\n\u001b[0;32m     13\u001b[0m recognizer\u001b[38;5;241m.\u001b[39mtrain([gray], np\u001b[38;5;241m.\u001b[39marray([\u001b[38;5;241m0\u001b[39m]))\n",
      "\u001b[1;31mAttributeError\u001b[0m: module 'cv2' has no attribute 'face'"
     ]
    }
   ],
   "source": [
    "known_face_encodings = []\n",
    "known_face_names = []\n",
    "\n",
    "for index, row in train_data.iterrows():\n",
    "    image_path = os.path.join(faces_dir, row['Image1'])\n",
    "    image = cv2.imread(image_path)\n",
    "    gray = cv2.cvtColor(image, cv2.COLOR_BGR2GRAY)\n",
    "    \n",
    "    # Create the LBPH recognizer\n",
    "    recognizer = cv2.face.LBPHFaceRecognizer_create()\n",
    "    \n",
    "    # Train the recognizer with the current image\n",
    "    recognizer.train([gray], np.array([0]))\n",
    "    \n",
    "    # Get the face encoding from the recognizer\n",
    "    face_encoding = recognizer.getFeatureVector(gray)\n",
    "    \n",
    "    known_face_encodings.append(face_encoding)\n",
    "    known_face_names.append(row['name'])"
   ]
  },
  {
   "cell_type": "code",
   "execution_count": 18,
   "id": "96664503-056b-470d-94c7-4d672b031296",
   "metadata": {},
   "outputs": [
    {
     "name": "stdout",
     "output_type": "stream",
     "text": [
      "Collecting dlib\n",
      "  Using cached dlib-19.24.4.tar.gz (3.3 MB)\n",
      "  Installing build dependencies: started\n",
      "  Installing build dependencies: finished with status 'done'\n",
      "  Getting requirements to build wheel: started\n",
      "  Getting requirements to build wheel: finished with status 'done'\n",
      "  Preparing metadata (pyproject.toml): started\n",
      "  Preparing metadata (pyproject.toml): finished with status 'done'\n",
      "Building wheels for collected packages: dlib\n",
      "  Building wheel for dlib (pyproject.toml): started\n",
      "  Building wheel for dlib (pyproject.toml): finished with status 'error'\n",
      "Failed to build dlib\n",
      "Note: you may need to restart the kernel to use updated packages.\n"
     ]
    },
    {
     "name": "stderr",
     "output_type": "stream",
     "text": [
      "  error: subprocess-exited-with-error\n",
      "  \n",
      "  Building wheel for dlib (pyproject.toml) did not run successfully.\n",
      "  exit code: 1\n",
      "  \n",
      "  [11 lines of output]\n",
      "  running bdist_wheel\n",
      "  running build\n",
      "  running build_ext\n",
      "  Traceback (most recent call last):\n",
      "    File \"<frozen runpy>\", line 198, in _run_module_as_main\n",
      "    File \"<frozen runpy>\", line 88, in _run_code\n",
      "    File \"C:\\Users\\user\\AppData\\Local\\Programs\\Python\\Python311\\Scripts\\cmake.exe\\__main__.py\", line 4, in <module>\n",
      "  ModuleNotFoundError: No module named 'cmake'\n",
      "  \n",
      "  ERROR: CMake must be installed to build dlib\n",
      "  \n",
      "  [end of output]\n",
      "  \n",
      "  note: This error originates from a subprocess, and is likely not a problem with pip.\n",
      "  ERROR: Failed building wheel for dlib\n",
      "ERROR: Could not build wheels for dlib, which is required to install pyproject.toml-based projects\n"
     ]
    }
   ],
   "source": [
    "pip install dlib"
   ]
  },
  {
   "cell_type": "code",
   "execution_count": null,
   "id": "dc1d15ac-40b5-47b7-b586-90b82042689b",
   "metadata": {},
   "outputs": [],
   "source": []
  }
 ],
 "metadata": {
  "kernelspec": {
   "display_name": "Python 3 (ipykernel)",
   "language": "python",
   "name": "python3"
  },
  "language_info": {
   "codemirror_mode": {
    "name": "ipython",
    "version": 3
   },
   "file_extension": ".py",
   "mimetype": "text/x-python",
   "name": "python",
   "nbconvert_exporter": "python",
   "pygments_lexer": "ipython3",
   "version": "3.11.9"
  }
 },
 "nbformat": 4,
 "nbformat_minor": 5
}
